{
  "nbformat": 4,
  "nbformat_minor": 0,
  "metadata": {
    "colab": {
      "name": "Topic Modelling: Discovering Topics from Reviews with Latent Dirichlet Allocation.ipynb",
      "provenance": [],
      "collapsed_sections": [],
      "authorship_tag": "ABX9TyNYsBLUhoyDfaR2n6CLimfQ",
      "include_colab_link": true
    },
    "kernelspec": {
      "display_name": "Python 3",
      "name": "python3"
    },
    "language_info": {
      "name": "python"
    }
  },
  "cells": [
    {
      "cell_type": "markdown",
      "metadata": {
        "id": "view-in-github",
        "colab_type": "text"
      },
      "source": [
        "<a href=\"https://colab.research.google.com/github/KelvinLam05/Topic-Modelling/blob/main/Topic_Modelling_Discovering_Topics_from_Reviews_with_Latent_Dirichlet_Allocation.ipynb\" target=\"_parent\"><img src=\"https://colab.research.google.com/assets/colab-badge.svg\" alt=\"Open In Colab\"/></a>"
      ]
    },
    {
      "cell_type": "markdown",
      "metadata": {
        "id": "5iuO4CIBbZwO"
      },
      "source": [
        "**Goal of the project**\n",
        "\n",
        "In this notebook, we will be covering the steps on how to do Latent Dirichlet Allocation (LDA), which is one of many topic modeling techniques. The ultimate goal of topic modeling to find a theme across reviews, and discover hidden topics. Each document in the corpus will be made up of at least one topic, if not multiple topics."
      ]
    },
    {
      "cell_type": "markdown",
      "metadata": {
        "id": "u0IFoMZ0g3AC"
      },
      "source": [
        "**Importing the data**"
      ]
    },
    {
      "cell_type": "code",
      "metadata": {
        "id": "zc6IbKGPz1nD"
      },
      "source": [
        "# Importing libraries\n",
        "import pandas as pd\n",
        "import numpy as np\n",
        "import matplotlib.pyplot as plt\n",
        "import seaborn as sns\n",
        "import tensorflow as tf"
      ],
      "execution_count": null,
      "outputs": []
    },
    {
      "cell_type": "code",
      "metadata": {
        "id": "vahdtPJM0pIQ"
      },
      "source": [
        "# Load dataset\n",
        "df = pd.read_csv('/content/restaurant_reviews.tsv', sep = '\\t')"
      ],
      "execution_count": null,
      "outputs": []
    },
    {
      "cell_type": "code",
      "metadata": {
        "colab": {
          "base_uri": "https://localhost:8080/",
          "height": 204
        },
        "id": "G7cLogq03qOp",
        "outputId": "cb08eefb-a2d6-4882-8cfa-d679bb3095b3"
      },
      "source": [
        "# Examine the data\n",
        "df.head()"
      ],
      "execution_count": null,
      "outputs": [
        {
          "output_type": "execute_result",
          "data": {
            "text/html": [
              "<div>\n",
              "<style scoped>\n",
              "    .dataframe tbody tr th:only-of-type {\n",
              "        vertical-align: middle;\n",
              "    }\n",
              "\n",
              "    .dataframe tbody tr th {\n",
              "        vertical-align: top;\n",
              "    }\n",
              "\n",
              "    .dataframe thead th {\n",
              "        text-align: right;\n",
              "    }\n",
              "</style>\n",
              "<table border=\"1\" class=\"dataframe\">\n",
              "  <thead>\n",
              "    <tr style=\"text-align: right;\">\n",
              "      <th></th>\n",
              "      <th>Review</th>\n",
              "      <th>Liked</th>\n",
              "    </tr>\n",
              "  </thead>\n",
              "  <tbody>\n",
              "    <tr>\n",
              "      <th>0</th>\n",
              "      <td>Wow... Loved this place.</td>\n",
              "      <td>1</td>\n",
              "    </tr>\n",
              "    <tr>\n",
              "      <th>1</th>\n",
              "      <td>Crust is not good.</td>\n",
              "      <td>0</td>\n",
              "    </tr>\n",
              "    <tr>\n",
              "      <th>2</th>\n",
              "      <td>Not tasty and the texture was just nasty.</td>\n",
              "      <td>0</td>\n",
              "    </tr>\n",
              "    <tr>\n",
              "      <th>3</th>\n",
              "      <td>Stopped by during the late May bank holiday of...</td>\n",
              "      <td>1</td>\n",
              "    </tr>\n",
              "    <tr>\n",
              "      <th>4</th>\n",
              "      <td>The selection on the menu was great and so wer...</td>\n",
              "      <td>1</td>\n",
              "    </tr>\n",
              "  </tbody>\n",
              "</table>\n",
              "</div>"
            ],
            "text/plain": [
              "                                              Review  Liked\n",
              "0                           Wow... Loved this place.      1\n",
              "1                                 Crust is not good.      0\n",
              "2          Not tasty and the texture was just nasty.      0\n",
              "3  Stopped by during the late May bank holiday of...      1\n",
              "4  The selection on the menu was great and so wer...      1"
            ]
          },
          "metadata": {},
          "execution_count": 3
        }
      ]
    },
    {
      "cell_type": "code",
      "metadata": {
        "colab": {
          "base_uri": "https://localhost:8080/"
        },
        "id": "qTJTpOAi3rfy",
        "outputId": "56b6d56c-6425-4bb6-df3a-431eacf0f0fe"
      },
      "source": [
        "# Overview of all variables, their datatypes\n",
        "df.info()"
      ],
      "execution_count": null,
      "outputs": [
        {
          "output_type": "stream",
          "name": "stdout",
          "text": [
            "<class 'pandas.core.frame.DataFrame'>\n",
            "RangeIndex: 1000 entries, 0 to 999\n",
            "Data columns (total 2 columns):\n",
            " #   Column  Non-Null Count  Dtype \n",
            "---  ------  --------------  ----- \n",
            " 0   Review  1000 non-null   object\n",
            " 1   Liked   1000 non-null   int64 \n",
            "dtypes: int64(1), object(1)\n",
            "memory usage: 15.8+ KB\n"
          ]
        }
      ]
    },
    {
      "cell_type": "markdown",
      "metadata": {
        "id": "4RhTKxLNXdcr"
      },
      "source": [
        "**Data preprocessing**"
      ]
    },
    {
      "cell_type": "code",
      "metadata": {
        "id": "fYLGE7ZzFRi-"
      },
      "source": [
        "# Change column names to lower case\n",
        "df.columns = df.columns.str.lower()"
      ],
      "execution_count": null,
      "outputs": []
    },
    {
      "cell_type": "code",
      "metadata": {
        "id": "wOt3JAfTIONn"
      },
      "source": [
        "# Drop columns that are not needed\n",
        "df.drop('liked', axis = 1, inplace = True)"
      ],
      "execution_count": null,
      "outputs": []
    },
    {
      "cell_type": "code",
      "metadata": {
        "colab": {
          "base_uri": "https://localhost:8080/",
          "height": 204
        },
        "id": "HGTEmCGt4d9B",
        "outputId": "4808874d-a099-483d-bf8b-4116fc35e4da"
      },
      "source": [
        "df.head()"
      ],
      "execution_count": null,
      "outputs": [
        {
          "output_type": "execute_result",
          "data": {
            "text/html": [
              "<div>\n",
              "<style scoped>\n",
              "    .dataframe tbody tr th:only-of-type {\n",
              "        vertical-align: middle;\n",
              "    }\n",
              "\n",
              "    .dataframe tbody tr th {\n",
              "        vertical-align: top;\n",
              "    }\n",
              "\n",
              "    .dataframe thead th {\n",
              "        text-align: right;\n",
              "    }\n",
              "</style>\n",
              "<table border=\"1\" class=\"dataframe\">\n",
              "  <thead>\n",
              "    <tr style=\"text-align: right;\">\n",
              "      <th></th>\n",
              "      <th>review</th>\n",
              "    </tr>\n",
              "  </thead>\n",
              "  <tbody>\n",
              "    <tr>\n",
              "      <th>0</th>\n",
              "      <td>Wow... Loved this place.</td>\n",
              "    </tr>\n",
              "    <tr>\n",
              "      <th>1</th>\n",
              "      <td>Crust is not good.</td>\n",
              "    </tr>\n",
              "    <tr>\n",
              "      <th>2</th>\n",
              "      <td>Not tasty and the texture was just nasty.</td>\n",
              "    </tr>\n",
              "    <tr>\n",
              "      <th>3</th>\n",
              "      <td>Stopped by during the late May bank holiday of...</td>\n",
              "    </tr>\n",
              "    <tr>\n",
              "      <th>4</th>\n",
              "      <td>The selection on the menu was great and so wer...</td>\n",
              "    </tr>\n",
              "  </tbody>\n",
              "</table>\n",
              "</div>"
            ],
            "text/plain": [
              "                                              review\n",
              "0                           Wow... Loved this place.\n",
              "1                                 Crust is not good.\n",
              "2          Not tasty and the texture was just nasty.\n",
              "3  Stopped by during the late May bank holiday of...\n",
              "4  The selection on the menu was great and so wer..."
            ]
          },
          "metadata": {},
          "execution_count": 7
        }
      ]
    },
    {
      "cell_type": "code",
      "metadata": {
        "colab": {
          "base_uri": "https://localhost:8080/"
        },
        "id": "m252ylgh4fJU",
        "outputId": "37dac345-13c8-4a5d-c228-295df2613049"
      },
      "source": [
        "# Checking for missing values\n",
        "df.isnull().sum().sort_values(ascending = False)"
      ],
      "execution_count": null,
      "outputs": [
        {
          "output_type": "execute_result",
          "data": {
            "text/plain": [
              "review    0\n",
              "dtype: int64"
            ]
          },
          "metadata": {},
          "execution_count": 8
        }
      ]
    },
    {
      "cell_type": "code",
      "metadata": {
        "colab": {
          "base_uri": "https://localhost:8080/",
          "height": 37
        },
        "id": "ahCcbe3yLF21",
        "outputId": "43751a21-3091-4c1e-c2aa-1736d7f7ff29"
      },
      "source": [
        "# Find all unique characters and symbols \n",
        "all_text = str()\n",
        "\n",
        "for sentence in df['review'].values:\n",
        "    all_text += sentence\n",
        "    \n",
        "''.join(set(all_text))"
      ],
      "execution_count": null,
      "outputs": [
        {
          "output_type": "execute_result",
          "data": {
            "application/vnd.google.colaboratory.intrinsic+json": {
              "type": "string"
            },
            "text/plain": [
              "'8ZjtXi:&Ug9YWM)T\\'c-qhAsCr%7nSBumJdwe5f$\" OQ2élzaê?(VDx*p.HR4ybEG0LkPF6+vN3I/1Ko!,'"
            ]
          },
          "metadata": {},
          "execution_count": 9
        }
      ]
    },
    {
      "cell_type": "markdown",
      "metadata": {
        "id": "DZ9YRwv4ZPuo"
      },
      "source": [
        "The kind of data we get from customer feedback is usually unstructured. It contains unusual text and symbols that need to be cleaned so that a machine learning model can grasp it."
      ]
    },
    {
      "cell_type": "code",
      "metadata": {
        "id": "MNmanS-iLJ6_"
      },
      "source": [
        "import re\n",
        "import nltk\n",
        "from nltk.tokenize import word_tokenize\n",
        "from nltk.corpus import stopwords\n",
        "from nltk.stem import WordNetLemmatizer "
      ],
      "execution_count": null,
      "outputs": []
    },
    {
      "cell_type": "code",
      "metadata": {
        "colab": {
          "base_uri": "https://localhost:8080/"
        },
        "id": "zuKW8bXJLPuq",
        "outputId": "c37d464f-9713-40bb-91f6-fa312bdc9874"
      },
      "source": [
        "nltk.download('stopwords')\n",
        "nltk.download('punkt')\n",
        "nltk.download('wordnet')"
      ],
      "execution_count": null,
      "outputs": [
        {
          "output_type": "stream",
          "name": "stdout",
          "text": [
            "[nltk_data] Downloading package stopwords to /root/nltk_data...\n",
            "[nltk_data]   Package stopwords is already up-to-date!\n",
            "[nltk_data] Downloading package punkt to /root/nltk_data...\n",
            "[nltk_data]   Package punkt is already up-to-date!\n",
            "[nltk_data] Downloading package wordnet to /root/nltk_data...\n",
            "[nltk_data]   Package wordnet is already up-to-date!\n"
          ]
        },
        {
          "output_type": "execute_result",
          "data": {
            "text/plain": [
              "True"
            ]
          },
          "metadata": {},
          "execution_count": 11
        }
      ]
    },
    {
      "cell_type": "code",
      "metadata": {
        "id": "pSIuBnXnLSiF"
      },
      "source": [
        "stop_words = set(stopwords.words('english'))  "
      ],
      "execution_count": null,
      "outputs": []
    },
    {
      "cell_type": "markdown",
      "metadata": {
        "id": "-ZUemU-AgHmV"
      },
      "source": [
        "We use the WordNet lemmatizer from NLTK. A lemmatizer is preferred over a stemmer in this case because it produces more readable words. Output that is easy to read is very desirable in topic modelling."
      ]
    },
    {
      "cell_type": "code",
      "metadata": {
        "id": "r9Rgp7qPAugV"
      },
      "source": [
        "lemma = WordNetLemmatizer()"
      ],
      "execution_count": null,
      "outputs": []
    },
    {
      "cell_type": "markdown",
      "metadata": {
        "id": "HgSJDUifo5xV"
      },
      "source": [
        "We will now set up our cleaning function."
      ]
    },
    {
      "cell_type": "code",
      "metadata": {
        "id": "eMKr9KXGLVtH"
      },
      "source": [
        "def clean_review(review_text):\n",
        "\n",
        "  # Removing all irrelevant characters (numbers and punctuation)                           \n",
        "  review_text = re.sub('[^a-zA-Z]', ' ', review_text)                           \n",
        "  # Replace one or more spaces with single space\n",
        "  review_text = re.sub(r'\\s+', ' ', review_text)                                \n",
        "  # Convert all characters into lowercase\n",
        "  review_text = str(review_text).lower()                                        \n",
        "  # Tokenization\n",
        "  review_text = word_tokenize(review_text)        \n",
        "  # Removing Stopwords                                      \n",
        "  review_text = [item for item in review_text if item not in stop_words]\n",
        "  # Lemmatization\n",
        "  review_text = [lemma.lemmatize(word = w, pos = 'v') for w in review_text]     \n",
        "  # Remove the words having length <= 2\n",
        "  review_text = [i for i in review_text if len(i) > 2]                          \n",
        "  # Convert the list of tokens into back to the string\n",
        "  review_text = ' '.join (review_text)                                          \n",
        "  \n",
        "  return review_text "
      ],
      "execution_count": null,
      "outputs": []
    },
    {
      "cell_type": "code",
      "metadata": {
        "id": "0tVsAiFKLX2I"
      },
      "source": [
        "df['clean_review'] = df['review'].apply(clean_review)"
      ],
      "execution_count": null,
      "outputs": []
    },
    {
      "cell_type": "code",
      "metadata": {
        "colab": {
          "base_uri": "https://localhost:8080/",
          "height": 37
        },
        "id": "bHzblFYZLaUG",
        "outputId": "2d3596b6-7332-421a-f70f-9aec917bcc27"
      },
      "source": [
        "all_text = str()\n",
        "\n",
        "for sentence in df['clean_review'].values:\n",
        "    all_text += sentence\n",
        "    \n",
        "''.join(set(all_text))"
      ],
      "execution_count": null,
      "outputs": [
        {
          "output_type": "execute_result",
          "data": {
            "application/vnd.google.colaboratory.intrinsic+json": {
              "type": "string"
            },
            "text/plain": [
              "'fysbrj ktinlgzuvmacodxwpqeh'"
            ]
          },
          "metadata": {},
          "execution_count": 16
        }
      ]
    },
    {
      "cell_type": "markdown",
      "metadata": {
        "id": "ilfcV4HUZeyE"
      },
      "source": [
        "When working with unstructured text data, we will inevitably find misspelled words. Luckily, SpellChecker can fix this."
      ]
    },
    {
      "cell_type": "code",
      "metadata": {
        "id": "PZxKek4unMsy"
      },
      "source": [
        "from spellchecker import SpellChecker"
      ],
      "execution_count": null,
      "outputs": []
    },
    {
      "cell_type": "code",
      "metadata": {
        "id": "PXbahDodnHqt"
      },
      "source": [
        "# Instantiate spell checker\n",
        "spell = SpellChecker()"
      ],
      "execution_count": null,
      "outputs": []
    },
    {
      "cell_type": "code",
      "metadata": {
        "id": "92_x11MkmVCJ"
      },
      "source": [
        "# Correct spelling\n",
        "def correct_spellings(text):\n",
        "    \n",
        "    corrected_text = []\n",
        "    misspelled_words = spell.unknown(text.split())\n",
        "    \n",
        "    for word in text.split():\n",
        "        if word in misspelled_words:\n",
        "            corrected_text.append(spell.correction(word))\n",
        "        else:\n",
        "            corrected_text.append(word)\n",
        "    \n",
        "    return ' '.join(corrected_text)"
      ],
      "execution_count": null,
      "outputs": []
    },
    {
      "cell_type": "code",
      "metadata": {
        "id": "xELQtoWIne9X"
      },
      "source": [
        "df['clean_review'] = df['clean_review'].apply(correct_spellings)"
      ],
      "execution_count": null,
      "outputs": []
    },
    {
      "cell_type": "code",
      "metadata": {
        "id": "_MAtv7Zlj4FF",
        "colab": {
          "base_uri": "https://localhost:8080/"
        },
        "outputId": "4be4cd8b-c476-41ef-af12-494af4dc4c9a"
      },
      "source": [
        "# Get the first five rows\n",
        "df['review'].head()"
      ],
      "execution_count": null,
      "outputs": [
        {
          "output_type": "execute_result",
          "data": {
            "text/plain": [
              "0                             Wow... Loved this place.\n",
              "1                                   Crust is not good.\n",
              "2            Not tasty and the texture was just nasty.\n",
              "3    Stopped by during the late May bank holiday of...\n",
              "4    The selection on the menu was great and so wer...\n",
              "Name: review, dtype: object"
            ]
          },
          "metadata": {},
          "execution_count": 22
        }
      ]
    },
    {
      "cell_type": "code",
      "metadata": {
        "id": "awaCREP4l9do",
        "colab": {
          "base_uri": "https://localhost:8080/"
        },
        "outputId": "81f1492c-58aa-447a-cadc-0acca70c0eff"
      },
      "source": [
        "# Get the first five rows\n",
        "df['clean_review'].head()"
      ],
      "execution_count": null,
      "outputs": [
        {
          "output_type": "execute_result",
          "data": {
            "text/plain": [
              "0                                       wow love place\n",
              "1                                           crust good\n",
              "2                                  tasty texture nasty\n",
              "3    stop late may bank holiday rick steve recommen...\n",
              "4                           selection menu great price\n",
              "Name: clean_review, dtype: object"
            ]
          },
          "metadata": {},
          "execution_count": 23
        }
      ]
    },
    {
      "cell_type": "code",
      "metadata": {
        "id": "T1lCQiQfgQya"
      },
      "source": [
        "import spacy.cli"
      ],
      "execution_count": null,
      "outputs": []
    },
    {
      "cell_type": "code",
      "metadata": {
        "id": "FZiIgFU4gOQI",
        "colab": {
          "base_uri": "https://localhost:8080/"
        },
        "outputId": "75f97957-38ba-49bb-aef1-e22acf283e8f"
      },
      "source": [
        "spacy.cli.download('en_core_web_sm')"
      ],
      "execution_count": null,
      "outputs": [
        {
          "output_type": "stream",
          "name": "stdout",
          "text": [
            "\u001b[38;5;2m✔ Download and installation successful\u001b[0m\n",
            "You can now load the model via spacy.load('en_core_web_sm')\n"
          ]
        }
      ]
    },
    {
      "cell_type": "code",
      "metadata": {
        "id": "fEHqlfiTgL25"
      },
      "source": [
        "import en_core_web_sm"
      ],
      "execution_count": null,
      "outputs": []
    },
    {
      "cell_type": "code",
      "metadata": {
        "id": "R4fm3zq-ENpO"
      },
      "source": [
        "nlp = en_core_web_sm.load()"
      ],
      "execution_count": null,
      "outputs": []
    },
    {
      "cell_type": "code",
      "metadata": {
        "id": "HQqrQ5a8uKNA"
      },
      "source": [
        "# Let's create a function to pull out nouns, verbs, adjectives, and adverbs from a string of text\n",
        "def is_pos(text):\n",
        "    \n",
        "    doc = nlp(text)\n",
        "    txt = []\n",
        "    is_pos = lambda pos: pos[:2] == 'VB' or pos[:2] == 'RB' or pos[:2] == 'NN' or pos[:2] == 'JJ' \n",
        "    \n",
        "    for token in doc:\n",
        "        txt.append((token.text, token.tag_))\n",
        "    word_pos = [word for (word, pos) in txt if is_pos(pos)] \n",
        "    \n",
        "    return ' '.join(word_pos)"
      ],
      "execution_count": null,
      "outputs": []
    },
    {
      "cell_type": "code",
      "metadata": {
        "id": "D_zuix8a5j8C"
      },
      "source": [
        "df['clean_review'] = df['clean_review'].apply(is_pos)"
      ],
      "execution_count": null,
      "outputs": []
    },
    {
      "cell_type": "code",
      "metadata": {
        "id": "ZfzJBC_slKrl",
        "colab": {
          "base_uri": "https://localhost:8080/"
        },
        "outputId": "a7e68304-3ad9-42f4-df28-eefa5f99c5b9"
      },
      "source": [
        "# Get the first five rows\n",
        "df['clean_review'].head()"
      ],
      "execution_count": null,
      "outputs": [
        {
          "output_type": "execute_result",
          "data": {
            "text/plain": [
              "0                                           love place\n",
              "1                                           crust good\n",
              "2                                  tasty texture nasty\n",
              "3    stop late may bank holiday rick steve recommen...\n",
              "4                           selection menu great price\n",
              "Name: clean_review, dtype: object"
            ]
          },
          "metadata": {},
          "execution_count": 30
        }
      ]
    },
    {
      "cell_type": "markdown",
      "metadata": {
        "id": "nhpR0mhRAXNU"
      },
      "source": [
        "After every preprocessing step, it is a good practice to check the most frequent words in the data. Therefore, let’s define a function that would plot a bar graph of n most frequent words in the data."
      ]
    },
    {
      "cell_type": "code",
      "metadata": {
        "id": "Wyfk75ZFGVpx"
      },
      "source": [
        "# Split the reviews into tokens\n",
        "df['clean_review'] = df['clean_review'].str.split()"
      ],
      "execution_count": null,
      "outputs": []
    },
    {
      "cell_type": "code",
      "metadata": {
        "id": "nMfBnpu8lOYh",
        "colab": {
          "base_uri": "https://localhost:8080/"
        },
        "outputId": "5ddaab2a-9f28-40b0-8956-aa5e322bf9ec"
      },
      "source": [
        "df['clean_review'].head()"
      ],
      "execution_count": null,
      "outputs": [
        {
          "output_type": "execute_result",
          "data": {
            "text/plain": [
              "0                                        [love, place]\n",
              "1                                        [crust, good]\n",
              "2                              [tasty, texture, nasty]\n",
              "3    [stop, late, may, bank, holiday, rick, steve, ...\n",
              "4                      [selection, menu, great, price]\n",
              "Name: clean_review, dtype: object"
            ]
          },
          "metadata": {},
          "execution_count": 32
        }
      ]
    },
    {
      "cell_type": "code",
      "metadata": {
        "id": "SQ-vvcT4TrYD"
      },
      "source": [
        "from nltk import FreqDist"
      ],
      "execution_count": null,
      "outputs": []
    },
    {
      "cell_type": "code",
      "metadata": {
        "id": "81DpfQKW5eOK",
        "colab": {
          "base_uri": "https://localhost:8080/",
          "height": 650
        },
        "outputId": "d522a503-2814-4077-9449-a81aa54178c2"
      },
      "source": [
        "# First get a list of all words\n",
        "all_words = [word for item in list(df['clean_review']) for word in item]\n",
        "\n",
        "# Creating FreqDist for whole BoW, keeping the 30 most common tokens\n",
        "all_fdist = FreqDist(all_words).most_common(30)\n",
        "\n",
        "# Conversion to Pandas series via Python Dictionary for easier plotting\n",
        "all_fdist = pd.Series(dict(all_fdist))\n",
        "\n",
        "# Setting figure, ax into variables\n",
        "fig, ax = plt.subplots(figsize = (20, 10))\n",
        "\n",
        "# Seaborn plotting using Pandas attributes + xtick rotation for ease of viewing\n",
        "all_plot = sns.barplot(x = all_fdist.index, y = all_fdist.values, ax = ax)\n",
        "plt.grid()\n",
        "plt.xticks(rotation = 30)\n",
        "plt.tick_params(left = False, bottom = False)\n",
        "plt.title('Frequency Distribution', {'fontsize': 14})"
      ],
      "execution_count": null,
      "outputs": [
        {
          "output_type": "execute_result",
          "data": {
            "text/plain": [
              "Text(0.5, 1.0, 'Frequency Distribution')"
            ]
          },
          "metadata": {},
          "execution_count": 34
        },
        {
          "output_type": "display_data",
          "data": {
            "image/png": "[encoded data removed]",
            "text/plain": [
              "<Figure size 1440x720 with 1 Axes>"
            ]
          },
          "metadata": {
            "needs_background": "light"
          }
        }
      ]
    },
    {
      "cell_type": "markdown",
      "metadata": {
        "id": "4Z0xwnQbZ-dz"
      },
      "source": [
        "**Bag of Words**"
      ]
    },
    {
      "cell_type": "markdown",
      "metadata": {
        "id": "yrpgNyhCxame"
      },
      "source": [
        "Create a dictionary from ‘clean_review’ containing the number of times a word appears in the training set.\n"
      ]
    },
    {
      "cell_type": "code",
      "metadata": {
        "id": "m2zSRRALmXlv"
      },
      "source": [
        "from gensim import corpora"
      ],
      "execution_count": null,
      "outputs": []
    },
    {
      "cell_type": "code",
      "metadata": {
        "id": "8X6Vp2XTmbH_"
      },
      "source": [
        "# Creating term dictionary of corpus, where each unique term is assigned an index\n",
        "dictionary = corpora.Dictionary(df['clean_review'])"
      ],
      "execution_count": null,
      "outputs": []
    },
    {
      "cell_type": "markdown",
      "metadata": {
        "id": "chTabcOwadc1"
      },
      "source": [
        "We remove rare words and common words based on their document frequency. Below we remove words that appear in less than 4 documents or in more than 40% of the documents."
      ]
    },
    {
      "cell_type": "code",
      "metadata": {
        "id": "odMgKCxani9r"
      },
      "source": [
        "# Filter out words that occur less than 4 documents, or more than 40% of the documents\n",
        "dictionary.filter_extremes(no_below = 4, no_above = 0.4)"
      ],
      "execution_count": null,
      "outputs": []
    },
    {
      "cell_type": "markdown",
      "metadata": {
        "id": "DogXtc00aDu9"
      },
      "source": [
        "For each document we create a dictionary reporting how many\n",
        "words and how many times those words appear. "
      ]
    },
    {
      "cell_type": "code",
      "metadata": {
        "id": "XjjImBv-yi5U"
      },
      "source": [
        "# Bag-of-words representation of the documents\n",
        "doc_term_matrix = df['clean_review'].map(dictionary.doc2bow)"
      ],
      "execution_count": null,
      "outputs": []
    },
    {
      "cell_type": "markdown",
      "metadata": {
        "id": "MO_6yOQkox82"
      },
      "source": [
        "Let’s see how many tokens and documents we have to train on."
      ]
    },
    {
      "cell_type": "code",
      "metadata": {
        "colab": {
          "base_uri": "https://localhost:8080/"
        },
        "id": "TTe8A0tbonKc",
        "outputId": "98dfaabb-d58b-4242-a4bb-3d8808b1647e"
      },
      "source": [
        "print('Number of unique tokens: %d' % len(dictionary))\n",
        "print('Number of documents: %d' % len(doc_term_matrix))"
      ],
      "execution_count": null,
      "outputs": [
        {
          "output_type": "stream",
          "name": "stdout",
          "text": [
            "Number of unique tokens: 307\n",
            "Number of documents: 1000\n"
          ]
        }
      ]
    },
    {
      "cell_type": "markdown",
      "metadata": {
        "id": "nnP3KcV6bCWj"
      },
      "source": [
        "**Running LDA using Bag of Words**"
      ]
    },
    {
      "cell_type": "markdown",
      "metadata": {
        "id": "bhkPYXRAbIXb"
      },
      "source": [
        "With the dictionary and doc_term_matrix ready, now we can Train the LDA model using **gensim.models.ldamodel.LdaModel.**\n",
        "\n",
        "However, at this point, the next question we need to ask is that what is the number of topics (k) should we use to train our model? We can utilize the c_v coherence score to decide the optimum number of topics for our model.\n",
        "\n",
        "Calculate the c_v Coherence Score:"
      ]
    },
    {
      "cell_type": "code",
      "metadata": {
        "id": "neCEXLr-1XvB"
      },
      "source": [
        "from gensim.models import LdaModel\n",
        "from gensim.models.coherencemodel import CoherenceModel"
      ],
      "execution_count": null,
      "outputs": []
    },
    {
      "cell_type": "code",
      "metadata": {
        "id": "Oaaas_R-2RDC"
      },
      "source": [
        "# Compute c_v coherence for various number of topics\n",
        "def compute_coherence_values(dictionary, corpus, texts, limit, start = 2, step = 3):\n",
        "    \n",
        "    \"\"\"\n",
        "    \n",
        "    Compute c_v coherence for various number of topics\n",
        "\n",
        "    Parameters:\n",
        "    ----------\n",
        "    dictionary : Gensim dictionary\n",
        "    corpus : Gensim corpus\n",
        "    texts : List of input texts\n",
        "    limit : Max num of topics\n",
        "\n",
        "    Returns:\n",
        "    -------\n",
        "    model_list : List of LDA topic models\n",
        "    coherence_values : Coherence values corresponding to the LDA model with respective number of topics\n",
        "    \n",
        "    \"\"\"\n",
        "    \n",
        "    coherence_values = []\n",
        "    model_list = []\n",
        "    \n",
        "    for num_topics in range(start, limit, step):\n",
        "        \n",
        "        model = LdaModel(corpus = doc_term_matrix, id2word = dictionary, num_topics = num_topics, random_state = 42, update_every = 1, chunksize = 2000, passes = 50, alpha = 'auto', eta = 'auto', per_word_topics = True)\n",
        "        model_list.append(model)\n",
        "        coherencemodel = CoherenceModel(model = model, texts = df['clean_review'], dictionary = dictionary, coherence = 'c_v')\n",
        "        coherence_values.append(coherencemodel.get_coherence())\n",
        "\n",
        "    return model_list, coherence_values"
      ],
      "execution_count": null,
      "outputs": []
    },
    {
      "cell_type": "markdown",
      "metadata": {
        "id": "Bi5L-oUWZ1B_"
      },
      "source": [
        "We can find the optimal number of topics for LDA by creating many LDA models with various values of topics. Among those LDAs we can pick one having highest coherence value.\n",
        "\n",
        "Following function named coherence_values_computation( ) will train multiple LDA models. It will also provide the models as well as their corresponding coherence score."
      ]
    },
    {
      "cell_type": "code",
      "metadata": {
        "id": "uSJ_F4nI2Q6w"
      },
      "source": [
        "model_list, coherence_values = compute_coherence_values(dictionary = dictionary, corpus = doc_term_matrix, texts = df['clean_review'], start = 2, limit = 40, step = 4)"
      ],
      "execution_count": null,
      "outputs": []
    },
    {
      "cell_type": "code",
      "metadata": {
        "id": "Nai6hHx_2Qx-",
        "colab": {
          "base_uri": "https://localhost:8080/",
          "height": 279
        },
        "outputId": "93904a78-bb34-4f66-f9ce-4484de232c8d"
      },
      "source": [
        "# Show graph\n",
        "limit = 40; start = 2; step = 4;\n",
        "\n",
        "x = range(start, limit, step)\n",
        "\n",
        "plt.plot(x, coherence_values)\n",
        "plt.grid()\n",
        "plt.xlabel('Num Topics')\n",
        "plt.ylabel('Coherence score')\n",
        "plt.legend(('coherence_values'), loc = 'best')\n",
        "plt.tick_params(left = False, bottom = False)\n",
        "plt.show()"
      ],
      "execution_count": null,
      "outputs": [
        {
          "output_type": "display_data",
          "data": {
            "image/png": "[encoded data removed]",
            "text/plain": [
              "<Figure size 432x288 with 1 Axes>"
            ]
          },
          "metadata": {
            "needs_background": "light"
          }
        }
      ]
    },
    {
      "cell_type": "code",
      "metadata": {
        "id": "JutcB2zXXF4u",
        "colab": {
          "base_uri": "https://localhost:8080/"
        },
        "outputId": "e2d57394-779f-48a7-ea68-6fd1273b033a"
      },
      "source": [
        "# Print the coherence scores\n",
        "for m, cv in zip(x, coherence_values):\n",
        "    print(\"Num Topics =\", m, \" has Coherence Value of\", round(cv, 4))"
      ],
      "execution_count": null,
      "outputs": [
        {
          "output_type": "stream",
          "name": "stdout",
          "text": [
            "Num Topics = 2  has Coherence Value of 0.4008\n",
            "Num Topics = 6  has Coherence Value of 0.488\n",
            "Num Topics = 10  has Coherence Value of 0.4872\n",
            "Num Topics = 14  has Coherence Value of 0.533\n",
            "Num Topics = 18  has Coherence Value of 0.523\n",
            "Num Topics = 22  has Coherence Value of 0.5165\n",
            "Num Topics = 26  has Coherence Value of 0.5291\n",
            "Num Topics = 30  has Coherence Value of 0.5204\n",
            "Num Topics = 34  has Coherence Value of 0.5016\n",
            "Num Topics = 38  has Coherence Value of 0.4996\n"
          ]
        }
      ]
    },
    {
      "cell_type": "markdown",
      "metadata": {
        "id": "DPXntV8iZfRB"
      },
      "source": [
        "Now, the question arises which model should we pick now? One of the good practices is to pick the model, that is giving highest coherence value before flattering out. So that’s why, we will be choosing the model with 14 topics which is at number 4 in the above list."
      ]
    },
    {
      "cell_type": "code",
      "metadata": {
        "id": "qiGrJnIzYYiC"
      },
      "source": [
        "from pprint import pprint"
      ],
      "execution_count": null,
      "outputs": []
    },
    {
      "cell_type": "code",
      "metadata": {
        "colab": {
          "base_uri": "https://localhost:8080/"
        },
        "id": "p05yvbH_bE_O",
        "outputId": "943c432b-4b01-4218-8cac-c178aa0b0ef2"
      },
      "source": [
        "optimal_model = model_list[3]\n",
        "model_topics = optimal_model.show_topics(formatted = False)\n",
        "pprint(optimal_model.print_topics(num_topics = -1, num_words = 10))"
      ],
      "execution_count": null,
      "outputs": [
        {
          "output_type": "stream",
          "name": "stdout",
          "text": [
            "[(0,\n",
            "  '0.071*\"time\" + 0.058*\"place\" + 0.051*\"give\" + 0.048*\"star\" + 0.044*\"first\" '\n",
            "  '+ 0.042*\"vegas\" + 0.035*\"experience\" + 0.034*\"know\" + 0.028*\"back\" + '\n",
            "  '0.027*\"bad\"'),\n",
            " (1,\n",
            "  '0.065*\"even\" + 0.062*\"much\" + 0.053*\"order\" + 0.034*\"fresh\" + 0.032*\"food\" '\n",
            "  '+ 0.027*\"good\" + 0.022*\"really\" + 0.022*\"come\" + 0.019*\"quick\" + '\n",
            "  '0.018*\"best\"'),\n",
            " (2,\n",
            "  '0.156*\"place\" + 0.057*\"amaze\" + 0.045*\"food\" + 0.041*\"really\" + '\n",
            "  '0.038*\"recommend\" + 0.035*\"flavor\" + 0.032*\"definitely\" + 0.030*\"say\" + '\n",
            "  '0.030*\"way\" + 0.024*\"nice\"'),\n",
            " (3,\n",
            "  '0.076*\"love\" + 0.049*\"place\" + 0.046*\"service\" + 0.037*\"worst\" + '\n",
            "  '0.037*\"find\" + 0.033*\"terrible\" + 0.033*\"pretty\" + 0.030*\"waitress\" + '\n",
            "  '0.029*\"food\" + 0.028*\"ever\"'),\n",
            " (4,\n",
            "  '0.140*\"service\" + 0.066*\"friendly\" + 0.054*\"staff\" + 0.052*\"also\" + '\n",
            "  '0.027*\"check\" + 0.027*\"slow\" + 0.024*\"cold\" + 0.021*\"night\" + '\n",
            "  '0.020*\"attentive\" + 0.019*\"time\"'),\n",
            " (5,\n",
            "  '0.206*\"good\" + 0.075*\"food\" + 0.036*\"service\" + 0.027*\"tasty\" + '\n",
            "  '0.026*\"pizza\" + 0.024*\"day\" + 0.021*\"excellent\" + 0.017*\"great\" + '\n",
            "  '0.016*\"rude\" + 0.016*\"see\"'),\n",
            " (6,\n",
            "  '0.104*\"wait\" + 0.056*\"minutes\" + 0.046*\"food\" + 0.043*\"want\" + 0.030*\"get\" '\n",
            "  '+ 0.025*\"sit\" + 0.021*\"place\" + 0.019*\"really\" + 0.018*\"hour\" + '\n",
            "  '0.018*\"use\"'),\n",
            " (7,\n",
            "  '0.060*\"price\" + 0.043*\"good\" + 0.040*\"selection\" + 0.038*\"make\" + '\n",
            "  '0.035*\"suck\" + 0.035*\"beer\" + 0.035*\"think\" + 0.027*\"fry\" + 0.027*\"food\" + '\n",
            "  '0.023*\"worth\"'),\n",
            " (8,\n",
            "  '0.068*\"take\" + 0.050*\"food\" + 0.039*\"felt\" + 0.030*\"leave\" + 0.030*\"ask\" + '\n",
            "  '0.030*\"service\" + 0.025*\"bar\" + 0.025*\"reasonable\" + 0.024*\"price\" + '\n",
            "  '0.021*\"bring\"'),\n",
            " (9,\n",
            "  '0.054*\"get\" + 0.052*\"best\" + 0.046*\"steak\" + 0.046*\"bite\" + 0.040*\"make\" + '\n",
            "  '0.031*\"ever\" + 0.027*\"side\" + 0.027*\"town\" + 0.026*\"time\" + '\n",
            "  '0.020*\"restaurant\"'),\n",
            " (10,\n",
            "  '0.082*\"restaurant\" + 0.037*\"perfect\" + 0.033*\"deal\" + 0.029*\"meal\" + '\n",
            "  '0.029*\"drink\" + 0.025*\"always\" + 0.025*\"thing\" + 0.025*\"return\" + '\n",
            "  '0.025*\"spicy\" + 0.021*\"bread\"'),\n",
            " (11,\n",
            "  '0.176*\"great\" + 0.071*\"food\" + 0.036*\"service\" + 0.031*\"chicken\" + '\n",
            "  '0.031*\"awesome\" + 0.028*\"get\" + 0.025*\"still\" + 0.023*\"lunch\" + '\n",
            "  '0.022*\"time\" + 0.020*\"salad\"'),\n",
            " (12,\n",
            "  '0.081*\"disappoint\" + 0.068*\"delicious\" + 0.059*\"eat\" + 0.058*\"place\" + '\n",
            "  '0.046*\"food\" + 0.036*\"time\" + 0.029*\"dish\" + 0.028*\"try\" + 0.027*\"taste\" + '\n",
            "  '0.025*\"atmosphere\"'),\n",
            " (13,\n",
            "  '0.182*\"back\" + 0.077*\"never\" + 0.065*\"come\" + 0.041*\"food\" + 0.032*\"ever\" + '\n",
            "  '0.030*\"probably\" + 0.026*\"fantastic\" + 0.026*\"impress\" + 0.022*\"sauce\" + '\n",
            "  '0.019*\"quality\"')]\n"
          ]
        }
      ]
    },
    {
      "cell_type": "markdown",
      "metadata": {
        "id": "XicV4xFF4o8Q"
      },
      "source": [
        "We can see that the topics above make a lot of sense. However, they are not without flaws. We can see that there is substantial overlap between some topics, others are hard to interpret, and most of them have at least some terms that seem out of place. "
      ]
    }
  ]
}